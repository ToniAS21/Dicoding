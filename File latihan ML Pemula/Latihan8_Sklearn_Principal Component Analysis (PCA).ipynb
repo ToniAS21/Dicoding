{
  "nbformat": 4,
  "nbformat_minor": 0,
  "metadata": {
    "colab": {
      "name": "Latihan8-Sklearn PCA.ipynb",
      "provenance": [],
      "collapsed_sections": []
    },
    "kernelspec": {
      "name": "python3",
      "display_name": "Python 3"
    }
  },
  "cells": [
    {
      "cell_type": "markdown",
      "metadata": {
        "id": "mZAnOXB-qIxw"
      },
      "source": [
        "https://www.dicoding.com/academies/184/tutorials/8437\n",
        "- Pada latihan ini, kita akan berlatih mengimplementasi PCA dengan library SKLearn.\n",
        "-Tahapan pada latihan ini sebagai berikut:\n",
        "  1. Bagi dataset.\n",
        "  2. Latih model tanpa PCA.\n",
        "  3. Latih model dengan PCA.\n",
        "  4. Evaluasi hasil kedua model."
      ]
    },
    {
      "cell_type": "code",
      "metadata": {
        "id": "PrIHPywWlWKm"
      },
      "source": [
        "# ==================================== PROSES BAGI DATASET =====================================\n",
        "\n",
        "# Import library\n",
        "from sklearn import datasets\n",
        "from sklearn.model_selection import train_test_split\n",
        "\n",
        "# Masukan dataset iris\n",
        "iris = datasets.load_iris()\n",
        "atribut = iris.data\n",
        "label = iris.target\n",
        "\n",
        "# bagi dataset menjadi train set dan test set\n",
        "X_train, X_test, y_train, y_test = train_test_split(\n",
        "    atribut, label, test_size=0.2, random_state=1)"
      ],
      "execution_count": 11,
      "outputs": []
    },
    {
      "cell_type": "code",
      "metadata": {
        "colab": {
          "base_uri": "https://localhost:8080/"
        },
        "id": "N6SzM8QBnpol",
        "outputId": "6b386950-57fd-477e-f1f2-851786f396ee"
      },
      "source": [
        "# ==================================== LATIH MODEL TANPA PCA =====================================\n",
        "\n",
        "# latih model tanpa PCA\n",
        "from sklearn import tree\n",
        "decision_tree = tree.DecisionTreeClassifier()\n",
        "model_pertama = decision_tree.fit(X_train, y_train)\n",
        "\n",
        "# menghitung akurasi model tanpa PCA\n",
        "model_pertama.score(X_test, y_test)"
      ],
      "execution_count": 12,
      "outputs": [
        {
          "output_type": "execute_result",
          "data": {
            "text/plain": [
              "0.9666666666666667"
            ]
          },
          "metadata": {},
          "execution_count": 12
        }
      ]
    },
    {
      "cell_type": "code",
      "metadata": {
        "colab": {
          "base_uri": "https://localhost:8080/"
        },
        "id": "jMbljjKMpmQe",
        "outputId": "1056fe7c-d0dc-40e2-ea7c-afdf5f39ddac"
      },
      "source": [
        "# ==================================== LATIH MODEL DENGAN PCA =====================================\n",
        "\n",
        "from sklearn.decomposition import PCA\n",
        "\n",
        "# membuat objek PCA dengan 4 principal component ==> Maksudnya akan menampilkan 4 atribut utama dilihat dari pengaruhnya\n",
        "pca = PCA(n_components=4)\n",
        "\n",
        "# mengaplikasikan PCA pada dataset\n",
        "pca_attributes = pca.fit_transform(X_train)\n",
        "\n",
        "# melihat variance dari setiap atribut\n",
        "pca.explained_variance_ratio_"
      ],
      "execution_count": 13,
      "outputs": [
        {
          "output_type": "execute_result",
          "data": {
            "text/plain": [
              "array([0.92848323, 0.04764372, 0.01931005, 0.004563  ])"
            ]
          },
          "metadata": {},
          "execution_count": 13
        }
      ]
    },
    {
      "cell_type": "code",
      "metadata": {
        "id": "EqBP9PrgsAfg",
        "colab": {
          "base_uri": "https://localhost:8080/"
        },
        "outputId": "4073975c-6cb4-481e-8742-63d098abf0fc"
      },
      "source": [
        "# Melihat dari variance sebelumnya kita bisa mengambil 2 principal component terbaik karena total variance nya adalah 0.969 yang sudah cukup tinggi.\n",
        "\n",
        "# latih model PCA dengan 2 principal component\n",
        "pca = PCA(n_components = 2)\n",
        "X_train_pca = pca.fit_transform(X_train)\n",
        "X_test_pca = pca.fit_transform(X_test)\n",
        "model2 = decision_tree.fit(X_train_pca, y_train)\n",
        "\n",
        "# Uji akurasi classifier\n",
        "model2.score(X_test_pca, y_test)"
      ],
      "execution_count": 10,
      "outputs": [
        {
          "output_type": "execute_result",
          "data": {
            "text/plain": [
              "0.9333333333333333"
            ]
          },
          "metadata": {},
          "execution_count": 10
        }
      ]
    },
    {
      "cell_type": "markdown",
      "metadata": {
        "id": "VV3V1Qf3DCVx"
      },
      "source": [
        "==================================== EVALUASI HASIL KEDUA MODEL =====================================\n",
        "\n",
        "Dari percobaan di atas bisa kita lihat bahwa dengan hanya 2 principal component atau 2 atribut saja model masih memiliki akurasi yang tinggi. Dengan principal component kita bisa mengurangi atribut yang kurang signifikan dalam prediksi dan mempercepat waktu pelatihan sebuah model machine learning."
      ]
    }
  ]
}