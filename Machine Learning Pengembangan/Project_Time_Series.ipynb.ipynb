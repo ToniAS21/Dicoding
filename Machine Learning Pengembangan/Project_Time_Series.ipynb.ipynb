{
 "cells": [
  {
   "cell_type": "markdown",
   "metadata": {
    "id": "R3S2qcCFvvp6"
   },
   "source": [
    "**Proyek Kedua : Membuat Model Machine Learning dengan Data Time Series**\n",
    "\n",
    "Panduan Project : https://www.dicoding.com/academies/185/tutorials/10179\n",
    "\n",
    "New York City Daily Temperature From 1869 to 2021\n",
    "- Proyek ini menghasilkan model untuk memperkirakan **Suhu Maksimum Harian** di *New York City* pada masa mendatang.\n",
    "- Dataset yang digunakan dalam model ini diambil dari ==> [ysze](https://www.kaggle.com/shaneysze/new-york-city-daily-temperature-18692021)\n",
    "- Proyek ini dikerjakan sebagai syarat menyelesaikan modul Time Series dalam kelas [Belajar Pengembangan Machine Learning](https://www.dicoding.com/academies/185) di [dicoding](https://www.dicoding.com/)\n",
    "\n",
    "Nama : Toni Andreas Susanto\n",
    "\n",
    "Asal : Kota Samarinda, Provinsi Kalimantan Timur"
   ]
  },
  {
   "cell_type": "markdown",
   "metadata": {
    "id": "bU6EtHeewpW_"
   },
   "source": [
    "# Import Berbagai Library yang Dibutuhkan"
   ]
  },
  {
   "cell_type": "code",
   "execution_count": 85,
   "metadata": {
    "id": "Xzq61Z7ETNh2"
   },
   "outputs": [],
   "source": [
    "# Import library\n",
    "import numpy as np\n",
    "import pandas as pd\n",
    "import tensorflow as tf\n",
    "import matplotlib.pyplot as plt\n",
    "from keras.layers import Dense, LSTM\n",
    "from sklearn.preprocessing import MinMaxScaler\n",
    "from sklearn.model_selection import train_test_split\n",
    "from keras.preprocessing.sequence import TimeseriesGenerator"
   ]
  },
  {
   "cell_type": "markdown",
   "metadata": {
    "id": "B_qWzvGPxDlO"
   },
   "source": [
    "# Membaca dan Menampilkan Dataframe\n",
    "\n"
   ]
  },
  {
   "cell_type": "code",
   "execution_count": 86,
   "metadata": {
    "colab": {
     "base_uri": "https://localhost:8080/",
     "height": 206
    },
    "id": "8pcgrsqFTZ7G",
    "outputId": "b4afb31e-9339-4f91-a865-42c1279f427b"
   },
   "outputs": [
    {
     "data": {
      "text/html": [
       "\n",
       "  <div id=\"df-0fd9c4a0-6c9a-4d54-b904-22a35a9e727a\">\n",
       "    <div class=\"colab-df-container\">\n",
       "      <div>\n",
       "<style scoped>\n",
       "    .dataframe tbody tr th:only-of-type {\n",
       "        vertical-align: middle;\n",
       "    }\n",
       "\n",
       "    .dataframe tbody tr th {\n",
       "        vertical-align: top;\n",
       "    }\n",
       "\n",
       "    .dataframe thead th {\n",
       "        text-align: right;\n",
       "    }\n",
       "</style>\n",
       "<table border=\"1\" class=\"dataframe\">\n",
       "  <thead>\n",
       "    <tr style=\"text-align: right;\">\n",
       "      <th></th>\n",
       "      <th>Unnamed: 0</th>\n",
       "      <th>MM/DD/YYYY</th>\n",
       "      <th>YEAR</th>\n",
       "      <th>MONTH</th>\n",
       "      <th>DAY</th>\n",
       "      <th>TMAX</th>\n",
       "      <th>TMIN</th>\n",
       "    </tr>\n",
       "  </thead>\n",
       "  <tbody>\n",
       "    <tr>\n",
       "      <th>0</th>\n",
       "      <td>0</td>\n",
       "      <td>1869-01-01</td>\n",
       "      <td>1869</td>\n",
       "      <td>1</td>\n",
       "      <td>1</td>\n",
       "      <td>-17.0</td>\n",
       "      <td>-72.0</td>\n",
       "    </tr>\n",
       "    <tr>\n",
       "      <th>1</th>\n",
       "      <td>1</td>\n",
       "      <td>1869-01-02</td>\n",
       "      <td>1869</td>\n",
       "      <td>1</td>\n",
       "      <td>2</td>\n",
       "      <td>-28.0</td>\n",
       "      <td>-61.0</td>\n",
       "    </tr>\n",
       "    <tr>\n",
       "      <th>2</th>\n",
       "      <td>2</td>\n",
       "      <td>1869-01-03</td>\n",
       "      <td>1869</td>\n",
       "      <td>1</td>\n",
       "      <td>3</td>\n",
       "      <td>17.0</td>\n",
       "      <td>-28.0</td>\n",
       "    </tr>\n",
       "    <tr>\n",
       "      <th>3</th>\n",
       "      <td>3</td>\n",
       "      <td>1869-01-04</td>\n",
       "      <td>1869</td>\n",
       "      <td>1</td>\n",
       "      <td>4</td>\n",
       "      <td>28.0</td>\n",
       "      <td>11.0</td>\n",
       "    </tr>\n",
       "    <tr>\n",
       "      <th>4</th>\n",
       "      <td>4</td>\n",
       "      <td>1869-01-05</td>\n",
       "      <td>1869</td>\n",
       "      <td>1</td>\n",
       "      <td>5</td>\n",
       "      <td>61.0</td>\n",
       "      <td>28.0</td>\n",
       "    </tr>\n",
       "  </tbody>\n",
       "</table>\n",
       "</div>\n",
       "      <button class=\"colab-df-convert\" onclick=\"convertToInteractive('df-0fd9c4a0-6c9a-4d54-b904-22a35a9e727a')\"\n",
       "              title=\"Convert this dataframe to an interactive table.\"\n",
       "              style=\"display:none;\">\n",
       "        \n",
       "  <svg xmlns=\"http://www.w3.org/2000/svg\" height=\"24px\"viewBox=\"0 0 24 24\"\n",
       "       width=\"24px\">\n",
       "    <path d=\"M0 0h24v24H0V0z\" fill=\"none\"/>\n",
       "    <path d=\"M18.56 5.44l.94 2.06.94-2.06 2.06-.94-2.06-.94-.94-2.06-.94 2.06-2.06.94zm-11 1L8.5 8.5l.94-2.06 2.06-.94-2.06-.94L8.5 2.5l-.94 2.06-2.06.94zm10 10l.94 2.06.94-2.06 2.06-.94-2.06-.94-.94-2.06-.94 2.06-2.06.94z\"/><path d=\"M17.41 7.96l-1.37-1.37c-.4-.4-.92-.59-1.43-.59-.52 0-1.04.2-1.43.59L10.3 9.45l-7.72 7.72c-.78.78-.78 2.05 0 2.83L4 21.41c.39.39.9.59 1.41.59.51 0 1.02-.2 1.41-.59l7.78-7.78 2.81-2.81c.8-.78.8-2.07 0-2.86zM5.41 20L4 18.59l7.72-7.72 1.47 1.35L5.41 20z\"/>\n",
       "  </svg>\n",
       "      </button>\n",
       "      \n",
       "  <style>\n",
       "    .colab-df-container {\n",
       "      display:flex;\n",
       "      flex-wrap:wrap;\n",
       "      gap: 12px;\n",
       "    }\n",
       "\n",
       "    .colab-df-convert {\n",
       "      background-color: #E8F0FE;\n",
       "      border: none;\n",
       "      border-radius: 50%;\n",
       "      cursor: pointer;\n",
       "      display: none;\n",
       "      fill: #1967D2;\n",
       "      height: 32px;\n",
       "      padding: 0 0 0 0;\n",
       "      width: 32px;\n",
       "    }\n",
       "\n",
       "    .colab-df-convert:hover {\n",
       "      background-color: #E2EBFA;\n",
       "      box-shadow: 0px 1px 2px rgba(60, 64, 67, 0.3), 0px 1px 3px 1px rgba(60, 64, 67, 0.15);\n",
       "      fill: #174EA6;\n",
       "    }\n",
       "\n",
       "    [theme=dark] .colab-df-convert {\n",
       "      background-color: #3B4455;\n",
       "      fill: #D2E3FC;\n",
       "    }\n",
       "\n",
       "    [theme=dark] .colab-df-convert:hover {\n",
       "      background-color: #434B5C;\n",
       "      box-shadow: 0px 1px 3px 1px rgba(0, 0, 0, 0.15);\n",
       "      filter: drop-shadow(0px 1px 2px rgba(0, 0, 0, 0.3));\n",
       "      fill: #FFFFFF;\n",
       "    }\n",
       "  </style>\n",
       "\n",
       "      <script>\n",
       "        const buttonEl =\n",
       "          document.querySelector('#df-0fd9c4a0-6c9a-4d54-b904-22a35a9e727a button.colab-df-convert');\n",
       "        buttonEl.style.display =\n",
       "          google.colab.kernel.accessAllowed ? 'block' : 'none';\n",
       "\n",
       "        async function convertToInteractive(key) {\n",
       "          const element = document.querySelector('#df-0fd9c4a0-6c9a-4d54-b904-22a35a9e727a');\n",
       "          const dataTable =\n",
       "            await google.colab.kernel.invokeFunction('convertToInteractive',\n",
       "                                                     [key], {});\n",
       "          if (!dataTable) return;\n",
       "\n",
       "          const docLinkHtml = 'Like what you see? Visit the ' +\n",
       "            '<a target=\"_blank\" href=https://colab.research.google.com/notebooks/data_table.ipynb>data table notebook</a>'\n",
       "            + ' to learn more about interactive tables.';\n",
       "          element.innerHTML = '';\n",
       "          dataTable['output_type'] = 'display_data';\n",
       "          await google.colab.output.renderOutput(dataTable, element);\n",
       "          const docLink = document.createElement('div');\n",
       "          docLink.innerHTML = docLinkHtml;\n",
       "          element.appendChild(docLink);\n",
       "        }\n",
       "      </script>\n",
       "    </div>\n",
       "  </div>\n",
       "  "
      ],
      "text/plain": [
       "   Unnamed: 0  MM/DD/YYYY  YEAR  MONTH  DAY  TMAX  TMIN\n",
       "0           0  1869-01-01  1869      1    1 -17.0 -72.0\n",
       "1           1  1869-01-02  1869      1    2 -28.0 -61.0\n",
       "2           2  1869-01-03  1869      1    3  17.0 -28.0\n",
       "3           3  1869-01-04  1869      1    4  28.0  11.0\n",
       "4           4  1869-01-05  1869      1    5  61.0  28.0"
      ]
     },
     "execution_count": 86,
     "metadata": {},
     "output_type": "execute_result"
    }
   ],
   "source": [
    "df = pd.read_csv('nyc_temp_1869_2021.csv')\n",
    "df.head()"
   ]
  },
  {
   "cell_type": "markdown",
   "metadata": {
    "id": "7_F0QjuHxcOk"
   },
   "source": [
    "# Mengecek Dataframe"
   ]
  },
  {
   "cell_type": "code",
   "execution_count": 87,
   "metadata": {
    "colab": {
     "base_uri": "https://localhost:8080/"
    },
    "id": "PNsLOpmRT-kA",
    "outputId": "a0ca4c7f-b8ff-4878-f6e3-29cbdc4e8399"
   },
   "outputs": [
    {
     "data": {
      "text/plain": [
       "Unnamed: 0    0\n",
       "MM/DD/YYYY    0\n",
       "YEAR          0\n",
       "MONTH         0\n",
       "DAY           0\n",
       "TMAX          0\n",
       "TMIN          0\n",
       "dtype: int64"
      ]
     },
     "execution_count": 87,
     "metadata": {},
     "output_type": "execute_result"
    }
   ],
   "source": [
    "df.isnull().sum()"
   ]
  },
  {
   "cell_type": "code",
   "execution_count": 88,
   "metadata": {
    "colab": {
     "base_uri": "https://localhost:8080/"
    },
    "id": "ntoKrenlT_DA",
    "outputId": "7ab62cc6-06ec-4b40-d4c1-e493b94ca9d7"
   },
   "outputs": [
    {
     "name": "stdout",
     "output_type": "stream",
     "text": [
      "<class 'pandas.core.frame.DataFrame'>\n",
      "RangeIndex: 55634 entries, 0 to 55633\n",
      "Data columns (total 7 columns):\n",
      " #   Column      Non-Null Count  Dtype  \n",
      "---  ------      --------------  -----  \n",
      " 0   Unnamed: 0  55634 non-null  int64  \n",
      " 1   MM/DD/YYYY  55634 non-null  object \n",
      " 2   YEAR        55634 non-null  int64  \n",
      " 3   MONTH       55634 non-null  int64  \n",
      " 4   DAY         55634 non-null  int64  \n",
      " 5   TMAX        55634 non-null  float64\n",
      " 6   TMIN        55634 non-null  float64\n",
      "dtypes: float64(2), int64(4), object(1)\n",
      "memory usage: 3.0+ MB\n"
     ]
    }
   ],
   "source": [
    "df.info()"
   ]
  },
  {
   "cell_type": "markdown",
   "metadata": {
    "id": "t3dATsHhyYuK"
   },
   "source": [
    "# Menghapus Kolom yang Tidak Diperlukan dan Menganti Nama Kolom"
   ]
  },
  {
   "cell_type": "code",
   "execution_count": 89,
   "metadata": {
    "colab": {
     "base_uri": "https://localhost:8080/",
     "height": 424
    },
    "id": "xjHMn7Q-T_I4",
    "outputId": "9ec4bc28-1fa6-43ab-b1a3-449d47d81797"
   },
   "outputs": [
    {
     "data": {
      "text/html": [
       "\n",
       "  <div id=\"df-e582991f-8468-48e3-b33d-e875d99a5875\">\n",
       "    <div class=\"colab-df-container\">\n",
       "      <div>\n",
       "<style scoped>\n",
       "    .dataframe tbody tr th:only-of-type {\n",
       "        vertical-align: middle;\n",
       "    }\n",
       "\n",
       "    .dataframe tbody tr th {\n",
       "        vertical-align: top;\n",
       "    }\n",
       "\n",
       "    .dataframe thead th {\n",
       "        text-align: right;\n",
       "    }\n",
       "</style>\n",
       "<table border=\"1\" class=\"dataframe\">\n",
       "  <thead>\n",
       "    <tr style=\"text-align: right;\">\n",
       "      <th></th>\n",
       "      <th>Date</th>\n",
       "      <th>TMAX</th>\n",
       "    </tr>\n",
       "  </thead>\n",
       "  <tbody>\n",
       "    <tr>\n",
       "      <th>0</th>\n",
       "      <td>1869-01-01</td>\n",
       "      <td>-17.0</td>\n",
       "    </tr>\n",
       "    <tr>\n",
       "      <th>1</th>\n",
       "      <td>1869-01-02</td>\n",
       "      <td>-28.0</td>\n",
       "    </tr>\n",
       "    <tr>\n",
       "      <th>2</th>\n",
       "      <td>1869-01-03</td>\n",
       "      <td>17.0</td>\n",
       "    </tr>\n",
       "    <tr>\n",
       "      <th>3</th>\n",
       "      <td>1869-01-04</td>\n",
       "      <td>28.0</td>\n",
       "    </tr>\n",
       "    <tr>\n",
       "      <th>4</th>\n",
       "      <td>1869-01-05</td>\n",
       "      <td>61.0</td>\n",
       "    </tr>\n",
       "    <tr>\n",
       "      <th>...</th>\n",
       "      <td>...</td>\n",
       "      <td>...</td>\n",
       "    </tr>\n",
       "    <tr>\n",
       "      <th>55629</th>\n",
       "      <td>2021-04-30</td>\n",
       "      <td>217.0</td>\n",
       "    </tr>\n",
       "    <tr>\n",
       "      <th>55630</th>\n",
       "      <td>2021-05-01</td>\n",
       "      <td>183.0</td>\n",
       "    </tr>\n",
       "    <tr>\n",
       "      <th>55631</th>\n",
       "      <td>2021-05-02</td>\n",
       "      <td>278.0</td>\n",
       "    </tr>\n",
       "    <tr>\n",
       "      <th>55632</th>\n",
       "      <td>2021-05-03</td>\n",
       "      <td>189.0</td>\n",
       "    </tr>\n",
       "    <tr>\n",
       "      <th>55633</th>\n",
       "      <td>2021-05-04</td>\n",
       "      <td>228.0</td>\n",
       "    </tr>\n",
       "  </tbody>\n",
       "</table>\n",
       "<p>55634 rows × 2 columns</p>\n",
       "</div>\n",
       "      <button class=\"colab-df-convert\" onclick=\"convertToInteractive('df-e582991f-8468-48e3-b33d-e875d99a5875')\"\n",
       "              title=\"Convert this dataframe to an interactive table.\"\n",
       "              style=\"display:none;\">\n",
       "        \n",
       "  <svg xmlns=\"http://www.w3.org/2000/svg\" height=\"24px\"viewBox=\"0 0 24 24\"\n",
       "       width=\"24px\">\n",
       "    <path d=\"M0 0h24v24H0V0z\" fill=\"none\"/>\n",
       "    <path d=\"M18.56 5.44l.94 2.06.94-2.06 2.06-.94-2.06-.94-.94-2.06-.94 2.06-2.06.94zm-11 1L8.5 8.5l.94-2.06 2.06-.94-2.06-.94L8.5 2.5l-.94 2.06-2.06.94zm10 10l.94 2.06.94-2.06 2.06-.94-2.06-.94-.94-2.06-.94 2.06-2.06.94z\"/><path d=\"M17.41 7.96l-1.37-1.37c-.4-.4-.92-.59-1.43-.59-.52 0-1.04.2-1.43.59L10.3 9.45l-7.72 7.72c-.78.78-.78 2.05 0 2.83L4 21.41c.39.39.9.59 1.41.59.51 0 1.02-.2 1.41-.59l7.78-7.78 2.81-2.81c.8-.78.8-2.07 0-2.86zM5.41 20L4 18.59l7.72-7.72 1.47 1.35L5.41 20z\"/>\n",
       "  </svg>\n",
       "      </button>\n",
       "      \n",
       "  <style>\n",
       "    .colab-df-container {\n",
       "      display:flex;\n",
       "      flex-wrap:wrap;\n",
       "      gap: 12px;\n",
       "    }\n",
       "\n",
       "    .colab-df-convert {\n",
       "      background-color: #E8F0FE;\n",
       "      border: none;\n",
       "      border-radius: 50%;\n",
       "      cursor: pointer;\n",
       "      display: none;\n",
       "      fill: #1967D2;\n",
       "      height: 32px;\n",
       "      padding: 0 0 0 0;\n",
       "      width: 32px;\n",
       "    }\n",
       "\n",
       "    .colab-df-convert:hover {\n",
       "      background-color: #E2EBFA;\n",
       "      box-shadow: 0px 1px 2px rgba(60, 64, 67, 0.3), 0px 1px 3px 1px rgba(60, 64, 67, 0.15);\n",
       "      fill: #174EA6;\n",
       "    }\n",
       "\n",
       "    [theme=dark] .colab-df-convert {\n",
       "      background-color: #3B4455;\n",
       "      fill: #D2E3FC;\n",
       "    }\n",
       "\n",
       "    [theme=dark] .colab-df-convert:hover {\n",
       "      background-color: #434B5C;\n",
       "      box-shadow: 0px 1px 3px 1px rgba(0, 0, 0, 0.15);\n",
       "      filter: drop-shadow(0px 1px 2px rgba(0, 0, 0, 0.3));\n",
       "      fill: #FFFFFF;\n",
       "    }\n",
       "  </style>\n",
       "\n",
       "      <script>\n",
       "        const buttonEl =\n",
       "          document.querySelector('#df-e582991f-8468-48e3-b33d-e875d99a5875 button.colab-df-convert');\n",
       "        buttonEl.style.display =\n",
       "          google.colab.kernel.accessAllowed ? 'block' : 'none';\n",
       "\n",
       "        async function convertToInteractive(key) {\n",
       "          const element = document.querySelector('#df-e582991f-8468-48e3-b33d-e875d99a5875');\n",
       "          const dataTable =\n",
       "            await google.colab.kernel.invokeFunction('convertToInteractive',\n",
       "                                                     [key], {});\n",
       "          if (!dataTable) return;\n",
       "\n",
       "          const docLinkHtml = 'Like what you see? Visit the ' +\n",
       "            '<a target=\"_blank\" href=https://colab.research.google.com/notebooks/data_table.ipynb>data table notebook</a>'\n",
       "            + ' to learn more about interactive tables.';\n",
       "          element.innerHTML = '';\n",
       "          dataTable['output_type'] = 'display_data';\n",
       "          await google.colab.output.renderOutput(dataTable, element);\n",
       "          const docLink = document.createElement('div');\n",
       "          docLink.innerHTML = docLinkHtml;\n",
       "          element.appendChild(docLink);\n",
       "        }\n",
       "      </script>\n",
       "    </div>\n",
       "  </div>\n",
       "  "
      ],
      "text/plain": [
       "             Date   TMAX\n",
       "0      1869-01-01  -17.0\n",
       "1      1869-01-02  -28.0\n",
       "2      1869-01-03   17.0\n",
       "3      1869-01-04   28.0\n",
       "4      1869-01-05   61.0\n",
       "...           ...    ...\n",
       "55629  2021-04-30  217.0\n",
       "55630  2021-05-01  183.0\n",
       "55631  2021-05-02  278.0\n",
       "55632  2021-05-03  189.0\n",
       "55633  2021-05-04  228.0\n",
       "\n",
       "[55634 rows x 2 columns]"
      ]
     },
     "execution_count": 89,
     "metadata": {},
     "output_type": "execute_result"
    }
   ],
   "source": [
    "df = df.drop(columns=['Unnamed: 0','YEAR','MONTH','DAY','TMIN'])\n",
    "df = df.rename(columns={'MM/DD/YYYY': 'Date'})\n",
    "df"
   ]
  },
  {
   "cell_type": "markdown",
   "metadata": {
    "id": "rJOEXKb70mkc"
   },
   "source": [
    "# Mengubah Nilai-Nilai dari Dataframe ke Dalam Tipe Data Numpy Array Menggunakan Atribut Values."
   ]
  },
  {
   "cell_type": "code",
   "execution_count": 90,
   "metadata": {
    "id": "RGHDrqGkg-1_"
   },
   "outputs": [],
   "source": [
    "date = df['Date'].values\n",
    "tmax = df['TMAX'].values"
   ]
  },
  {
   "cell_type": "markdown",
   "metadata": {
    "id": "po01uqwF0s3W"
   },
   "source": [
    "# Membagi Data untuk Training dan Testing."
   ]
  },
  {
   "cell_type": "code",
   "execution_count": 91,
   "metadata": {
    "id": "VJxK9tf0XtvG"
   },
   "outputs": [],
   "source": [
    "x_train, x_test, y_train, y_test = train_test_split(date, tmax, train_size=0.8, test_size = 0.2, shuffle = False )"
   ]
  },
  {
   "cell_type": "markdown",
   "metadata": {
    "id": "pIxsZecd08x8"
   },
   "source": [
    "# Melakukan Rescale data"
   ]
  },
  {
   "cell_type": "code",
   "execution_count": 92,
   "metadata": {
    "id": "qYdQQVxocKmP"
   },
   "outputs": [],
   "source": [
    "scaler = MinMaxScaler()\n",
    "y_train_scale = scaler.fit_transform(y_train.reshape(-1, 1))\n",
    "y_test_scale = scaler.fit_transform(y_test.reshape(-1, 1))"
   ]
  },
  {
   "cell_type": "code",
   "execution_count": 93,
   "metadata": {
    "id": "nZrtbTW-eLDn"
   },
   "outputs": [],
   "source": [
    "n = 20\n",
    "train_gen = TimeseriesGenerator(y_train_scale, y_train_scale, length=n, batch_size=20)     \n",
    "test_gen = TimeseriesGenerator(y_test_scale, y_test_scale, length=n, batch_size=1)"
   ]
  },
  {
   "cell_type": "markdown",
   "metadata": {
    "id": "pF8Cd8_X1E-S"
   },
   "source": [
    "# Membangun Arsitektur Model"
   ]
  },
  {
   "cell_type": "code",
   "execution_count": 94,
   "metadata": {
    "colab": {
     "base_uri": "https://localhost:8080/"
    },
    "id": "RGOhCy79cw-f",
    "outputId": "843d9200-4eae-45a6-a7c8-0c57f60e3e35"
   },
   "outputs": [
    {
     "name": "stdout",
     "output_type": "stream",
     "text": [
      "Model: \"sequential_10\"\n",
      "_________________________________________________________________\n",
      " Layer (type)                Output Shape              Param #   \n",
      "=================================================================\n",
      " lstm_10 (LSTM)              (None, 20, 32)            4352      \n",
      "                                                                 \n",
      " global_max_pooling1d_9 (Glo  (None, 32)               0         \n",
      " balMaxPooling1D)                                                \n",
      "                                                                 \n",
      " dropout_8 (Dropout)         (None, 32)                0         \n",
      "                                                                 \n",
      " dense_8 (Dense)             (None, 1)                 33        \n",
      "                                                                 \n",
      "=================================================================\n",
      "Total params: 4,385\n",
      "Trainable params: 4,385\n",
      "Non-trainable params: 0\n",
      "_________________________________________________________________\n"
     ]
    }
   ],
   "source": [
    "model = tf.keras.models.Sequential([\n",
    "  tf.keras.layers.LSTM(32, activation='relu', return_sequences=True, input_shape=(n, 1)),\n",
    "  tf.keras.layers.GlobalMaxPooling1D(),\n",
    "  tf.keras.layers.Dropout(0.25),\n",
    "  tf.keras.layers.Dense(1)\n",
    "])\n",
    "\n",
    "model.summary()"
   ]
  },
  {
   "cell_type": "markdown",
   "metadata": {
    "id": "MbKnigC21O_s"
   },
   "source": [
    "# Implementasi callbacks"
   ]
  },
  {
   "cell_type": "code",
   "execution_count": 95,
   "metadata": {
    "id": "SZSWyISezB2J"
   },
   "outputs": [],
   "source": [
    "class myCallback(tf.keras.callbacks.Callback):\n",
    "  def on_epoch_end(self, epoch, logs={}):\n",
    "    if(logs.get('mae')<0.1):\n",
    "      print(\"\\nMAE telah mencapai < 10%!\")\n",
    "      self.model.stop_training = True\n",
    "callbacks = myCallback()"
   ]
  },
  {
   "cell_type": "markdown",
   "metadata": {
    "id": "Nt2XOZdd1TWK"
   },
   "source": [
    "# Memlih Optimizer, Loss & Metrics serta Melatih Model"
   ]
  },
  {
   "cell_type": "code",
   "execution_count": 97,
   "metadata": {
    "colab": {
     "base_uri": "https://localhost:8080/"
    },
    "id": "yfhAw4CTcw_L",
    "outputId": "295c387d-adb4-4f95-dcec-45248a6a98b0"
   },
   "outputs": [
    {
     "name": "stderr",
     "output_type": "stream",
     "text": [
      "/usr/local/lib/python3.7/dist-packages/ipykernel_launcher.py:9: UserWarning: `Model.fit_generator` is deprecated and will be removed in a future version. Please use `Model.fit`, which supports generators.\n",
      "  if __name__ == '__main__':\n"
     ]
    },
    {
     "name": "stdout",
     "output_type": "stream",
     "text": [
      "Epoch 1/20\n",
      "2225/2225 [==============================] - 64s 28ms/step - loss: 0.0115 - mae: 0.1224 - val_loss: 0.0092 - val_mae: 0.1135\n",
      "Epoch 2/20\n",
      "2225/2225 [==============================] - 70s 31ms/step - loss: 0.0108 - mae: 0.1182 - val_loss: 0.0086 - val_mae: 0.1089\n",
      "Epoch 3/20\n",
      "2225/2225 [==============================] - 67s 30ms/step - loss: 0.0100 - mae: 0.1138 - val_loss: 0.0081 - val_mae: 0.1055\n",
      "Epoch 4/20\n",
      "2225/2225 [==============================] - 43s 19ms/step - loss: 0.0094 - mae: 0.1103 - val_loss: 0.0076 - val_mae: 0.1019\n",
      "Epoch 5/20\n",
      "2225/2225 [==============================] - 62s 28ms/step - loss: 0.0088 - mae: 0.1064 - val_loss: 0.0071 - val_mae: 0.0984\n",
      "Epoch 6/20\n",
      "2225/2225 [==============================] - 49s 22ms/step - loss: 0.0083 - mae: 0.1030 - val_loss: 0.0068 - val_mae: 0.0957\n",
      "Epoch 7/20\n",
      "2225/2225 [==============================] - 42s 19ms/step - loss: 0.0079 - mae: 0.1003 - val_loss: 0.0064 - val_mae: 0.0925\n",
      "Epoch 8/20\n",
      "2220/2225 [============================>.] - ETA: 0s - loss: 0.0075 - mae: 0.0977\n",
      "MAE telah mencapai < 10%!\n",
      "2225/2225 [==============================] - 42s 19ms/step - loss: 0.0075 - mae: 0.0977 - val_loss: 0.0061 - val_mae: 0.0903\n"
     ]
    }
   ],
   "source": [
    "optimizer = tf.keras.optimizers.SGD(learning_rate=1.0000e-04, momentum=0.9)\n",
    "model.compile(loss=tf.keras.losses.Huber(), \n",
    "              optimizer=optimizer, \n",
    "              metrics=[\"mae\"])\n",
    "history = model.fit_generator(train_gen, \n",
    "                    epochs=20, \n",
    "                    callbacks=[callbacks],\n",
    "                    validation_data = test_gen, \n",
    "                    verbose=1)"
   ]
  },
  {
   "cell_type": "markdown",
   "metadata": {
    "id": "200Vj0_K_EtF"
   },
   "source": [
    "# Membuat Plot Loss dan MAE Pada Saat Training dan Testing / Validation"
   ]
  },
  {
   "cell_type": "code",
   "execution_count": 101,
   "metadata": {
    "colab": {
     "base_uri": "https://localhost:8080/",
     "height": 666
    },
    "id": "QkJwkk231tM5",
    "outputId": "c666a782-5a0a-4440-996d-7865b52bd01f"
   },
   "outputs": [
    {
     "data": {
      "image/png": "[encoded data removed]",
      "text/plain": [
       "<Figure size 432x288 with 1 Axes>"
      ]
     },
     "metadata": {
      "needs_background": "light"
     },
     "output_type": "display_data"
    },
    {
     "data": {
      "text/plain": [
       "<Figure size 432x288 with 0 Axes>"
      ]
     },
     "metadata": {},
     "output_type": "display_data"
    },
    {
     "data": {
      "image/png": "[encoded data removed]",
      "text/plain": [
       "<Figure size 432x288 with 1 Axes>"
      ]
     },
     "metadata": {
      "needs_background": "light"
     },
     "output_type": "display_data"
    },
    {
     "data": {
      "text/plain": [
       "<Figure size 432x288 with 0 Axes>"
      ]
     },
     "metadata": {},
     "output_type": "display_data"
    }
   ],
   "source": [
    "loss = history.history['loss']\n",
    "val_loss = history.history['val_loss']\n",
    "mae = history.history['mae']\n",
    "val_mae = history.history['val_mae']\n",
    "epochs = range(len(loss))\n",
    "\n",
    "# Plot Loss Training dan Validasi\n",
    "plt.plot(epochs, loss, 'r', label='Loss Training')\n",
    "plt.plot(epochs, val_loss, 'b', label='Loss Validation')\n",
    "plt.title('Loss Training and Validation', loc='center', pad=30, fontsize=20, color='red')\n",
    "plt.ylabel('Loss', color='blue')\n",
    "plt.xlabel('Epoch', color='blue')\n",
    "plt.legend(loc=0)\n",
    "plt.grid(color='darkgray', linestyle=':', linewidth=0.5)\n",
    "plt.ylim(ymin=0)\n",
    "plt.figure()\n",
    "plt.show()\n",
    "\n",
    "# Plot MAE Training dan Validasi\n",
    "plt.plot(epochs, mae, 'r', label='MAE Training')\n",
    "plt.plot(epochs, val_mae, 'b', label='MAE Validation')\n",
    "plt.title('MAE Training and Validation', loc='center', pad=30, fontsize=20, color='red')\n",
    "plt.ylabel('MAE', color='blue')\n",
    "plt.xlabel('Epoch', color='blue')\n",
    "plt.legend(loc=0)\n",
    "plt.grid(color='darkgray', linestyle=':', linewidth=0.5)\n",
    "plt.ylim(ymin=0)\n",
    "plt.figure()\n",
    "plt.show()"
   ]
  }
 ],
 "metadata": {
  "colab": {
   "collapsed_sections": [],
   "name": "Project Time Series.ipynb",
   "provenance": []
  },
  "kernelspec": {
   "display_name": "Python 3.9.5 64-bit",
   "language": "python",
   "name": "python3"
  },
  "language_info": {
   "codemirror_mode": {
    "name": "ipython",
    "version": 3
   },
   "file_extension": ".py",
   "mimetype": "text/x-python",
   "name": "python",
   "nbconvert_exporter": "python",
   "pygments_lexer": "ipython3",
   "version": "3.9.5"
  },
  "vscode": {
   "interpreter": {
    "hash": "08e595c52ca3b9470036b1110e67b559e55f367cabc363f2e28d35631ed95060"
   }
  }
 },
 "nbformat": 4,
 "nbformat_minor": 1
}
