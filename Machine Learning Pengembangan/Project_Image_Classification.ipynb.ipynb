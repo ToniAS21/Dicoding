{
 "cells": [
  {
   "cell_type": "markdown",
   "metadata": {
    "id": "gF7kOHrmLBQM"
   },
   "source": [
    "**Proyek Ketiga (Akhir) : Image Classification Model Deployment.**\n",
    "\n",
    "Panduan Project : https://www.dicoding.com/academies/185/tutorials/10629\n",
    "\n",
    "\n",
    "Computer Generated Images Using Domain Randomization\n",
    "- Proyek ini menghasilkan model deployment ke format berkas TF-Lite yang dapat di embed di Android dan iOS. \n",
    "- Proyek ini menghasilkan model yang bertujuan untuk mengklasifikasikan 4 kelas alias membedakan sepeda(*bikes*), mobil(*cars*), kucing(*cats*), dan anjing(*dogs*).\n",
    "\n",
    "- Dataset yang digunakan dalam model ini berasal dari ==> [Synthetic Image Dataset (Cats, Dogs, Bikes, Cars)](https://www.kaggle.com/zarkonium/synthetic-image-dataset-cats-dogs-bikes-cars)\n",
    "- Proyek ini dikerjakan sebagai syarat untuk lulus dalam kelas [Belajar Pengembangan Machine Learning](https://www.dicoding.com/academies/185) di [dicoding](https://www.dicoding.com/)\n",
    "\n",
    "Nama : Toni Andreas Susanto\n",
    "\n",
    "Asal : Kota Samarinda, Provinsi Kalimantan Timur"
   ]
  },
  {
   "cell_type": "markdown",
   "metadata": {
    "id": "87r6hGLn1ZGM"
   },
   "source": [
    "# Import Library yang dibutuhkan"
   ]
  },
  {
   "cell_type": "code",
   "execution_count": null,
   "metadata": {
    "id": "WX14Z2Up2uon"
   },
   "outputs": [],
   "source": [
    "import pathlib\n",
    "import zipfile,os\n",
    "import tensorflow as tf\n",
    "import keras_preprocessing\n",
    "import matplotlib.pyplot as plt\n",
    "import matplotlib.image as mpimg\n",
    "from google.colab import files\n",
    "from google.colab import drive\n",
    "from keras.preprocessing import image\n",
    "from tensorflow.keras.layers import Input\n",
    "from tensorflow.keras.applications import ResNet50\n",
    "from tensorflow.keras.applications import ResNet152V2\n",
    "from keras_preprocessing.image import ImageDataGenerator"
   ]
  },
  {
   "cell_type": "markdown",
   "metadata": {
    "id": "cYVxtplm1jm7"
   },
   "source": [
    "# Menyiapkan Dataset"
   ]
  },
  {
   "cell_type": "code",
   "execution_count": null,
   "metadata": {
    "id": "IRT4ufH2wJxq"
   },
   "outputs": [],
   "source": [
    "drive.mount('/content/gdrive')"
   ]
  },
  {
   "cell_type": "code",
   "execution_count": null,
   "metadata": {
    "id": "ahti2P6tjt5S"
   },
   "outputs": [],
   "source": [
    "# Proses ekstraksi pada file zip\n",
    "local_zip = '/content/gdrive/MyDrive/dataset/image_dataset.zip'\n",
    "zip_ref = zipfile.ZipFile(local_zip, 'r')\n",
    "zip_ref.extractall('/content')\n",
    "zip_ref.close()"
   ]
  },
  {
   "cell_type": "markdown",
   "metadata": {
    "id": "iaMp-o68_EHw"
   },
   "source": [
    "# Mendefinisikan Direktori, Mengetahui Jumlah Gambar dan Menampilkan Sampel Gambar"
   ]
  },
  {
   "cell_type": "code",
   "execution_count": null,
   "metadata": {
    "id": "qebagpJQm3pY"
   },
   "outputs": [],
   "source": [
    "folder_bikes = os.path.join('/content/image_dataset/dataset/bikes')\n",
    "folder_cars = os.path.join('/content/image_dataset/dataset/cars/cars')\n",
    "folder_cats = os.path.join('/content/image_dataset/dataset/cats/cats')\n",
    "folder_dogs = os.path.join('/content/image_dataset/dataset/dogs/dogs')\n",
    "# ==============================================================================\n",
    "print('Jumlah total foto bikes adalah', len(os.listdir(folder_bikes)))\n",
    "print('jumlah total foto cars adalah', len(os.listdir(folder_cars)))\n",
    "print('jumlah total foto cats adalah', len(os.listdir(folder_cats)))\n",
    "print('jumlah total foto dogs adalah', len(os.listdir(folder_dogs)))"
   ]
  },
  {
   "cell_type": "code",
   "execution_count": null,
   "metadata": {
    "id": "i5NDTO-16X4D"
   },
   "outputs": [],
   "source": [
    "%matplotlib inline\n",
    "files_bikes = os.listdir(folder_bikes)\n",
    "files_cars = os.listdir(folder_cars)\n",
    "files_cats = os.listdir(folder_cats)\n",
    "files_dogs = os.listdir(folder_dogs)\n",
    "\n",
    "nrows = 4\n",
    "ncols = 5\n",
    "\n",
    "pic_index = 0 \n",
    "\n",
    "fig = plt.gcf()\n",
    "fig.set_size_inches(ncols * 4, nrows * 4)\n",
    "pic_index += 5\n",
    "\n",
    "foto_beberapa_bikes = [os.path.join(folder_bikes, fname)\n",
    "                         for fname in files_bikes[pic_index-5:pic_index]]\n",
    "foto_beberapa_cars = [os.path.join(folder_cars, fname)\n",
    "                         for fname in files_cars[pic_index-5:pic_index]]\n",
    "foto_beberapa_cats = [os.path.join(folder_cats, fname)\n",
    "                         for fname in files_cats[pic_index-5:pic_index]]\n",
    "foto_beberapa_dogs = [os.path.join(folder_dogs, fname)\n",
    "                         for fname in files_dogs[pic_index-5:pic_index]]\n",
    "\n",
    "for i, img_path in enumerate(foto_beberapa_bikes+foto_beberapa_cars+foto_beberapa_cats+foto_beberapa_dogs):\n",
    "  sp = plt.subplot(nrows, ncols, i + 1)\n",
    "  sp.axis('Off')\n",
    "  img = mpimg.imread(img_path)\n",
    "  plt.imshow(img)\n",
    "plt.show()"
   ]
  },
  {
   "cell_type": "markdown",
   "metadata": {
    "id": "cln27MqO-j8k"
   },
   "source": [
    "# Menerapkan Augmentasi Gambar dan Split Dataset"
   ]
  },
  {
   "cell_type": "code",
   "execution_count": null,
   "metadata": {
    "id": "SJe7p2fjQKfb"
   },
   "outputs": [],
   "source": [
    "base_dir = \"/content/image_dataset/dataset\"\n",
    "train_datagen = ImageDataGenerator(\n",
    "    rescale = 1./255,\n",
    "    rotation_range=20,\n",
    "    horizontal_flip=True,\n",
    "    shear_range=0.2,\n",
    "    zoom_range=0.2,\n",
    "    height_shift_range=0.2,\n",
    "    width_shift_range=0.2,\n",
    "    fill_mode='nearest',\n",
    "    validation_split=0.2)"
   ]
  },
  {
   "cell_type": "code",
   "execution_count": null,
   "metadata": {
    "id": "dGfVyfJbtvhE"
   },
   "outputs": [],
   "source": [
    "train_generator = train_datagen.flow_from_directory(\n",
    "  directory=base_dir,   \n",
    "  target_size=(150,150), \n",
    "  class_mode='categorical',  \n",
    "  shuffle=True,\n",
    "  subset='training')\n",
    "\n",
    "validation_generator = train_datagen.flow_from_directory(\n",
    "  directory=base_dir,  \n",
    "  target_size=(150,150),  \n",
    "  class_mode='categorical',\n",
    "  shuffle=True,\n",
    "  subset='validation')"
   ]
  },
  {
   "cell_type": "markdown",
   "metadata": {
    "id": "5wpo9Nvz4a2z"
   },
   "source": [
    "# Membuat Model Sequential"
   ]
  },
  {
   "cell_type": "code",
   "execution_count": null,
   "metadata": {
    "id": "lGg_L-Xh3PCF"
   },
   "outputs": [],
   "source": [
    "model = tf.keras.models.Sequential([                             \n",
    "    tf.keras.layers.Conv2D(64, (3,3), activation='relu', input_shape=(150, 150, 3)),\n",
    "    tf.keras.layers.MaxPooling2D(2,2),\n",
    "    tf.keras.layers.Conv2D(32, (3,3), activation='relu'),\n",
    "    tf.keras.layers.MaxPooling2D(2,2),\n",
    "    tf.keras.layers.Dropout(0.2),  \n",
    "    tf.keras.layers.Conv2D(64, (3,3), activation='relu'), \n",
    "    tf.keras.layers.MaxPooling2D(2,2),\n",
    "    tf.keras.layers.Dropout(0.5),  \n",
    "    tf.keras.layers.Flatten(), \n",
    "    tf.keras.layers.Dense(512, activation='relu'),\n",
    "    tf.keras.layers.Dense(256, activation='relu'),\n",
    "    tf.keras.layers.Dense(4, activation='softmax')  \n",
    "])"
   ]
  },
  {
   "cell_type": "markdown",
   "metadata": {
    "id": "qUHoCiVM4nVJ"
   },
   "source": [
    "# Implementasi Callbacks"
   ]
  },
  {
   "cell_type": "code",
   "execution_count": null,
   "metadata": {
    "id": "-As5nLVqkxnw"
   },
   "outputs": [],
   "source": [
    "reduce_lr = tf.keras.callbacks.ReduceLROnPlateau(\n",
    "    monitor='val_loss', \n",
    "    factor=0.2,\n",
    "    patience=5, \n",
    "    min_lr=1.5e-5\n",
    ")\n",
    "\n",
    "early_stop = tf.keras.callbacks.EarlyStopping(\n",
    "    monitor=\"val_loss\",\n",
    "    min_delta=0,\n",
    "    patience=12,\n",
    "    verbose=0,\n",
    "    mode=\"auto\",\n",
    "    baseline=None,\n",
    "    restore_best_weights=True\n",
    ")"
   ]
  },
  {
   "cell_type": "markdown",
   "metadata": {
    "id": "kkaH0ZZN4xIj"
   },
   "source": [
    "# Memilih *Loss, Optimizer dan metrics*"
   ]
  },
  {
   "cell_type": "code",
   "execution_count": null,
   "metadata": {
    "id": "CyiG82kWYcKN"
   },
   "outputs": [],
   "source": [
    "model.compile(loss ='categorical_crossentropy',\n",
    "              optimizer = tf.optimizers.Adam(),\n",
    "              metrics=['accuracy'])"
   ]
  },
  {
   "cell_type": "markdown",
   "metadata": {
    "id": "z4X_OLk244w6"
   },
   "source": [
    "# Pelatihan Model"
   ]
  },
  {
   "cell_type": "code",
   "execution_count": null,
   "metadata": {
    "id": "c--OwajEYeGG"
   },
   "outputs": [],
   "source": [
    "history=model.fit(\n",
    "    train_generator,\n",
    "    epochs=30,\n",
    "    batch_size=64,\n",
    "    verbose=2,\n",
    "    callbacks = [reduce_lr, early_stop],\n",
    "    validation_data=validation_generator\n",
    ")"
   ]
  },
  {
   "cell_type": "markdown",
   "metadata": {
    "id": "fS4Q5k3S48n5"
   },
   "source": [
    "# Menerapkan *Transfer Learning*"
   ]
  },
  {
   "cell_type": "code",
   "execution_count": null,
   "metadata": {
    "id": "vq5W_JtIronc"
   },
   "outputs": [],
   "source": [
    "model = tf.keras.models.Sequential([\n",
    "    ResNet152V2(weights=\"imagenet\", include_top=False, input_tensor=Input(shape=(150, 150, 3))),\n",
    "    # tf.keras.layers.Dropout(0.4),\n",
    "    tf.keras.layers.Flatten(), \n",
    "    tf.keras.layers.Dense(512, activation='relu'),\n",
    "    tf.keras.layers.Dense(256, activation='relu'),\n",
    "    tf.keras.layers.Dense(4, activation='softmax')  \n",
    "])\n",
    "model.layers[0].trainable = False\n",
    "\n",
    "model.summary()"
   ]
  },
  {
   "cell_type": "code",
   "execution_count": null,
   "metadata": {
    "id": "2QRp1wIutkVU"
   },
   "outputs": [],
   "source": [
    "model.compile(loss ='categorical_crossentropy',\n",
    "              optimizer = tf.optimizers.Adam(),\n",
    "              metrics=['accuracy'])"
   ]
  },
  {
   "cell_type": "code",
   "execution_count": null,
   "metadata": {
    "id": "volom4Qmtgrz"
   },
   "outputs": [],
   "source": [
    "history=model.fit(\n",
    "    train_generator,\n",
    "    epochs=30,\n",
    "    batch_size=64,\n",
    "    verbose=2,\n",
    "    callbacks = [reduce_lr, early_stop],\n",
    "    validation_data=validation_generator)"
   ]
  },
  {
   "cell_type": "markdown",
   "metadata": {
    "id": "DM6T3_OKBLes"
   },
   "source": [
    "# Plot Accuracy dan Loss"
   ]
  },
  {
   "cell_type": "code",
   "execution_count": null,
   "metadata": {
    "id": "Mpr-uE7BBJQH"
   },
   "outputs": [],
   "source": [
    "accuracy = history.history['accuracy']\n",
    "val_accuracy = history.history['val_accuracy']\n",
    "loss = history.history['loss']\n",
    "val_loss = history.history['val_loss']\n",
    "epochs = range(len(accuracy))\n",
    "\n",
    "plt.plot(epochs, accuracy, 'r', label='Accuracy Training')\n",
    "plt.plot(epochs, val_accuracy, 'b', label='Accuracy Validation')\n",
    "plt.title('Accuracy Training and Validation')\n",
    "plt.legend(loc=0)\n",
    "plt.figure()\n",
    "plt.show()\n",
    "\n",
    "plt.plot(epochs, loss, 'r', label='Loss Training')\n",
    "plt.plot(epochs, val_loss, 'b', label='Loss Validation')\n",
    "plt.title('Loss Training and Validation')\n",
    "plt.legend(loc=0)\n",
    "plt.figure()\n",
    "plt.show()"
   ]
  },
  {
   "cell_type": "markdown",
   "metadata": {
    "id": "otbUHAZJGAC8"
   },
   "source": [
    "# Save format TF-Lite"
   ]
  },
  {
   "cell_type": "code",
   "execution_count": null,
   "metadata": {
    "id": "PaVtFFfJGDKM"
   },
   "outputs": [],
   "source": [
    "# Menyimpan model dalam format SavedModel\n",
    "export_dir = 'saved_model/'\n",
    "tf.saved_model.save(model, export_dir)\n",
    "\n",
    "# Convert SavedModel menjadi vegs.tflite\n",
    "converter = tf.lite.TFLiteConverter.from_saved_model(export_dir)\n",
    "tflite_model = converter.convert()\n",
    "\n",
    "tflite_model_file = pathlib.Path('vegs.tflite')\n",
    "tflite_model_file.write_bytes(tflite_model)"
   ]
  },
  {
   "cell_type": "markdown",
   "metadata": {
    "id": "cOaHPXozC6Le"
   },
   "source": [
    "# Memprediksi Gambar"
   ]
  },
  {
   "cell_type": "markdown",
   "metadata": {
    "id": "SxpSvg_brAlW"
   },
   "source": [
    "Membuat Fungsi untuk Memprediksi Gambar"
   ]
  },
  {
   "cell_type": "code",
   "execution_count": null,
   "metadata": {
    "id": "t4GBehzgdcHw"
   },
   "outputs": [],
   "source": [
    "def predict_image(image_upload, model = model):\n",
    "  imge = image_upload\n",
    "  imge_array = np.asarray(imge)\n",
    "  imge_array = imge_array*(1/225)\n",
    "  imge_input = tf.reshape(imge_array, shape = [1, 150, 150, 3])\n",
    "\n",
    "  predict_array = model.predict(imge_input)[0]\n",
    "  predict_kelas = np.argmax(model.predict(imge_input))\n",
    "\n",
    "  if predict_kelas == 0:\n",
    "      predict_item = 'Bikes'\n",
    "  elif predict_kelas == 1:\n",
    "      predict_item = 'Cars'\n",
    "  elif predict_kelas == 2:\n",
    "      predict_item = 'Cats'\n",
    "  elif predict_kelas == 3:\n",
    "      predict_item = 'Dogs'\n",
    "  else:\n",
    "      predict_item = 'Bukan Bikes, Cars, Cats, dan Dogs'\n",
    "\n",
    "  return predict_item"
   ]
  },
  {
   "cell_type": "code",
   "execution_count": null,
   "metadata": {
    "id": "TRDRBXk0fwn-"
   },
   "outputs": [],
   "source": [
    "def predict():\n",
    "  uploaded = files.upload()\n",
    "\n",
    "  for fn in uploaded.keys():\n",
    "    path = fn\n",
    "    img = image.load_img(path, target_size=(150,150))\n",
    "    imgplot = plt.imshow(img)\n",
    "    x = image.img_to_array(img)\n",
    "    x = np.expand_dims(x, axis=0)\n",
    "    img = np.vstack([x])\n",
    "\n",
    "  kelas = predict_image(img)\n",
    "\n",
    "  print('\\n')\n",
    "  plt.show()\n",
    "  print('Gambar yang Anda masukan dikenali sebagai ' + kelas)"
   ]
  },
  {
   "cell_type": "markdown",
   "metadata": {
    "id": "eTSd-olbrMPk"
   },
   "source": [
    "Coba Prediksi 4 Gambar Baru"
   ]
  },
  {
   "cell_type": "code",
   "execution_count": null,
   "metadata": {
    "id": "WOyysvapg6_d"
   },
   "outputs": [],
   "source": [
    "predict()"
   ]
  },
  {
   "cell_type": "code",
   "execution_count": null,
   "metadata": {
    "id": "tbnk6yKjoICq"
   },
   "outputs": [],
   "source": [
    "predict()"
   ]
  },
  {
   "cell_type": "code",
   "execution_count": null,
   "metadata": {
    "id": "J1c5IZpvoNoJ"
   },
   "outputs": [],
   "source": [
    "predict()"
   ]
  },
  {
   "cell_type": "code",
   "execution_count": null,
   "metadata": {
    "id": "A5xzvCY1oPgB"
   },
   "outputs": [],
   "source": [
    "predict()"
   ]
  }
 ],
 "metadata": {
  "accelerator": "GPU",
  "colab": {
   "collapsed_sections": [],
   "name": "Project_Image_Classification.ipynb",
   "private_outputs": true,
   "provenance": []
  },
  "kernelspec": {
   "display_name": "Python 3.9.5 64-bit",
   "language": "python",
   "name": "python3"
  },
  "language_info": {
   "codemirror_mode": {
    "name": "ipython",
    "version": 3
   },
   "file_extension": ".py",
   "mimetype": "text/x-python",
   "name": "python",
   "nbconvert_exporter": "python",
   "pygments_lexer": "ipython3",
   "version": "3.9.5"
  },
  "vscode": {
   "interpreter": {
    "hash": "08e595c52ca3b9470036b1110e67b559e55f367cabc363f2e28d35631ed95060"
   }
  }
 },
 "nbformat": 4,
 "nbformat_minor": 1
}
