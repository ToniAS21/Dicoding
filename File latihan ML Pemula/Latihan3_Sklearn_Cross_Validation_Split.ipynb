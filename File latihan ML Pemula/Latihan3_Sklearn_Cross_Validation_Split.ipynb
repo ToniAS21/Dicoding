{
  "nbformat": 4,
  "nbformat_minor": 0,
  "metadata": {
    "colab": {
      "name": "Latihan3-Sklearn Cross Validation Split.ipynb",
      "provenance": [],
      "collapsed_sections": []
    },
    "kernelspec": {
      "name": "python3",
      "display_name": "Python 3"
    }
  },
  "cells": [
    {
      "cell_type": "markdown",
      "metadata": {
        "id": "qKbp4dMr45-z"
      },
      "source": [
        "https://www.dicoding.com/academies/184/tutorials/8377\n",
        "- Cara menggunakan cross_validation_score pada classifier decision_tree. \n",
        "- Tahapan yang dilakukan pada codelab ini sebagai berikut:\n",
        "1. Impor library yang dibutuhkan.\n",
        "2. Pisahkan antara atribut dan label pada dataset.\n",
        "3. Buat model decision tree.\n",
        "4. Hitung hasil cross validation dari model dengan fungsi cross_val_score().\n"
      ]
    },
    {
      "cell_type": "code",
      "metadata": {
        "id": "4c-FFv1xfZMj"
      },
      "source": [
        "# panggil datasets dari sklearn\n",
        "import sklearn\n",
        "from sklearn import datasets\n",
        "\n",
        "# load iris dataset yg memiliki jumlah 150 sampel.\n",
        "iris = datasets.load_iris()"
      ],
      "execution_count": 1,
      "outputs": []
    },
    {
      "cell_type": "code",
      "metadata": {
        "id": "O4BfrSX0gnAw"
      },
      "source": [
        "# bagi atribut dan target, assign ke dalam variable x, y\n",
        "x=iris.data\n",
        "y=iris.target"
      ],
      "execution_count": 2,
      "outputs": []
    },
    {
      "cell_type": "code",
      "metadata": {
        "id": "amRCUTacb9Bp"
      },
      "source": [
        "from sklearn import tree \n",
        "\n",
        "# membuat model dengan decision tree classifier\n",
        "clf = tree.DecisionTreeClassifier()"
      ],
      "execution_count": 3,
      "outputs": []
    },
    {
      "cell_type": "markdown",
      "metadata": {
        "id": "qXr2Ckm-61QI"
      },
      "source": [
        "Fungsi cross_val_score() seperti di bawah menerima 4 parameter yaitu, ‘clf’ yang merupakan model machine learning, ‘X’ yang merupakan atribut dari dataset, ‘y’ yang merupakan label dari dataset, dan ‘cv’ yang merupakan jumlah fold yang akan dipakai pada cross validation."
      ]
    },
    {
      "cell_type": "code",
      "metadata": {
        "id": "gpWsdO5wgDlj",
        "colab": {
          "base_uri": "https://localhost:8080/"
        },
        "outputId": "d7e597ca-43c3-4489-e4f0-a64cc6ee6b62"
      },
      "source": [
        "from sklearn.model_selection import cross_val_score\n",
        "\n",
        "# mengevaluasi performa model dengan cross_val_score\n",
        "scores = cross_val_score(clf, x, y, cv=5) \n",
        "scores\n",
        "# jika hasil pengujian tiap fold pada Cross validation 0,85 - 0,99 maka model baik "
      ],
      "execution_count": 4,
      "outputs": [
        {
          "output_type": "execute_result",
          "data": {
            "text/plain": [
              "array([0.96666667, 0.96666667, 0.9       , 0.96666667, 1.        ])"
            ]
          },
          "metadata": {},
          "execution_count": 4
        }
      ]
    }
  ]
}